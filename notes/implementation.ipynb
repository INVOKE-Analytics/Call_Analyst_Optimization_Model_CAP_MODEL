{
 "cells": [
  {
   "cell_type": "code",
   "execution_count": 6,
   "metadata": {},
   "outputs": [],
   "source": [
    "import numpy as np\n",
    "import pandas as pd\n",
    "from copy import deepcopy\n",
    "from math import ceil, floor\n",
    "\n",
    "pd.set_option(\"display.max_row\", 0)\n",
    "pd.set_option(\"display.max_column\", 0)"
   ]
  },
  {
   "attachments": {},
   "cell_type": "markdown",
   "metadata": {},
   "source": [
    "### Dynamic Programming Solver"
   ]
  },
  {
   "cell_type": "code",
   "execution_count": 7,
   "metadata": {},
   "outputs": [],
   "source": [
    "import copy\n",
    "\n",
    "def knapsack_solver(weights:list, values:list, max_weight:int, top_n:int=1) -> list:\n",
    "    if len(weights) == 0:\n",
    "        return 0\n",
    "\n",
    "    last_array = [-1 for _ in range(max_weight + 1)]\n",
    "    last_path = [[] for _ in range(max_weight + 1)]\n",
    "\n",
    "    for i in range(len(weights[0])):\n",
    "        if weights[0][i] != max_weight:\n",
    "            if last_array[weights[0][i]] < values[0][i]:\n",
    "                last_array[weights[0][i]] = values[0][i]\n",
    "                last_path[weights[0][i]] = [(0, i, weights[0][i])]\n",
    "\n",
    "    for i in range(1, len(weights)):\n",
    "        current_array = [-1 for _ in range(max_weight + 1)]\n",
    "        current_path = [[] for _ in range(max_weight + 1)]\n",
    "\n",
    "        for j in range(len(weights[i])):\n",
    "            for k in range(weights[i][j], max_weight + 1):\n",
    "                if last_array[k - weights[i][j]] > 0:\n",
    "                    if current_array[k] < last_array[k - weights[i][j]] + values[i][j]:\n",
    "                        current_array[k] = last_array[k - weights[i][j]] + values[i][j]\n",
    "                        current_path[k] = deepcopy(last_path[k - weights[i][j]])\n",
    "                        current_path[k].append((i, j, weights[i][j]))\n",
    "\n",
    "        last_array = current_array\n",
    "        last_path = current_path\n",
    "\n",
    "    solution = [elem for elem in zip(last_array, last_path) if elem[0] != -1]\n",
    "    solution = sorted(solution, key=lambda tup: tup[0], reverse=True)\n",
    "\n",
    "    return solution[:top_n]"
   ]
  },
  {
   "attachments": {},
   "cell_type": "markdown",
   "metadata": {},
   "source": [
    "### Answer Formatter"
   ]
  },
  {
   "cell_type": "code",
   "execution_count": 8,
   "metadata": {},
   "outputs": [],
   "source": [
    "def solve(surveys:list, max_extension:int, max_manpower:int, top_n:int=1) -> dict:\n",
    "    daily_agents = lambda c, r, d, x: ceil(c / (r * (d + x)))\n",
    "\n",
    "    problem_dict = [dict.fromkeys([]) for _ in surveys]\n",
    "    for idx, (cr, rate, day) in enumerate(surveys):\n",
    "        for extension in range(max_extension):\n",
    "            agents = daily_agents(cr, rate, day, extension+1)\n",
    "            if agents not in problem_dict[idx].values():\n",
    "                problem_dict[idx][max_extension-extension] = agents\n",
    "\n",
    "    values = []\n",
    "    weights = []\n",
    "    for survey in problem_dict:\n",
    "        values.append(tuple(survey.keys()))\n",
    "        weights.append(tuple(survey.values()))\n",
    "\n",
    "    solution = knapsack_solver(weights, values, max_manpower, top_n)\n",
    "    viable_days = [list(d.keys()) for d in problem_dict]\n",
    "    schedule = []\n",
    "\n",
    "    for idx, (score, path) in enumerate(solution):\n",
    "        agent = [tup[2] for tup in path]\n",
    "        extend = [max_extension-viable_days[idx][elem] for idx, elem in enumerate([tup[1] for tup in path])]\n",
    "        schedule.append((agent, extend))\n",
    "\n",
    "    if schedule:\n",
    "        for i in range(top_n):\n",
    "            print(\n",
    "                [\n",
    "                    agent*rate\n",
    "                    for agent, (_, rate, _)\n",
    "                    in zip(schedule[i][0], surveys)\n",
    "                ]\n",
    "            )\n",
    "        return schedule\n",
    "    else:\n",
    "        print(solution)\n",
    "        print(\"Solution not found. Either extend the maximum extension or increase manpower.\")\n",
    "        return"
   ]
  },
  {
   "attachments": {},
   "cell_type": "markdown",
   "metadata": {},
   "source": [
    "### Example"
   ]
  },
  {
   "cell_type": "code",
   "execution_count": 10,
   "metadata": {},
   "outputs": [
    {
     "name": "stdout",
     "output_type": "stream",
     "text": [
      "[60, 96, 70, 72, 80, 90, 102]\n",
      "[45, 96, 70, 72, 80, 90, 102]\n",
      "[45, 84, 70, 72, 80, 90, 102]\n",
      "[45, 84, 70, 72, 60, 90, 102]\n",
      "[45, 84, 70, 72, 60, 72, 102]\n",
      "[45, 84, 70, 72, 60, 72, 85]\n",
      "[45, 84, 70, 72, 60, 72, 68]\n",
      "[30, 84, 70, 72, 60, 72, 68]\n",
      "[30, 84, 56, 72, 60, 72, 68]\n",
      "[30, 84, 56, 72, 40, 72, 68]\n"
     ]
    },
    {
     "data": {
      "text/plain": [
       "[([4, 8, 5, 8, 4, 5, 6], [4, 11, 9, 12, 4, 6, 6]),\n",
       " ([3, 8, 5, 8, 4, 5, 6], [6, 11, 9, 12, 4, 6, 6]),\n",
       " ([3, 7, 5, 8, 4, 5, 6], [6, 13, 9, 12, 4, 6, 6]),\n",
       " ([3, 7, 5, 8, 3, 5, 6], [6, 13, 9, 12, 6, 6, 6]),\n",
       " ([3, 7, 5, 8, 3, 4, 6], [6, 13, 9, 12, 6, 8, 6]),\n",
       " ([3, 7, 5, 8, 3, 4, 5], [6, 13, 9, 12, 6, 8, 8]),\n",
       " ([3, 7, 5, 8, 3, 4, 4], [6, 13, 9, 12, 6, 8, 10]),\n",
       " ([2, 7, 5, 8, 3, 4, 4], [9, 13, 9, 12, 6, 8, 10]),\n",
       " ([2, 7, 4, 8, 3, 4, 4], [9, 13, 12, 12, 6, 8, 10]),\n",
       " ([2, 7, 4, 8, 2, 4, 4], [9, 13, 12, 12, 9, 8, 10])]"
      ]
     },
     "execution_count": 10,
     "metadata": {},
     "output_type": "execute_result"
    }
   ],
   "source": [
    "surveys = [(300, 15, 0), (1100, 12, 0), (700, 14, 0), (900, 9, 0), (400, 20, 0), (600, 18, 0), (700, 17, 0)]\n",
    "max_extension = 14\n",
    "max_manpower = 40\n",
    "solve(surveys, max_extension, max_manpower, 10)"
   ]
  }
 ],
 "metadata": {
  "kernelspec": {
   "display_name": "venv",
   "language": "python",
   "name": "venv"
  },
  "orig_nbformat": 4
 },
 "nbformat": 4,
 "nbformat_minor": 2
}
